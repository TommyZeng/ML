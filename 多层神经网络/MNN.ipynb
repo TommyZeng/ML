{
 "cells": [
  {
   "cell_type": "code",
   "execution_count": 7,
   "metadata": {},
   "outputs": [],
   "source": [
    "import matplotlib.pyplot as plt\n",
    "import numpy as np\n",
    "import MNN as mn\n",
    "import lr_utils\n",
    "\n",
    "%matplotlib inline"
   ]
  },
  {
   "cell_type": "code",
   "execution_count": 9,
   "metadata": {},
   "outputs": [
    {
     "name": "stdout",
     "output_type": "stream",
     "text": [
      "第 0 次迭代，成本值为： 0.715731513413713\n",
      "第 100 次迭代，成本值为： 0.6747377593469114\n",
      "第 200 次迭代，成本值为： 0.6603365433622127\n",
      "第 300 次迭代，成本值为： 0.6462887802148751\n",
      "第 400 次迭代，成本值为： 0.6298131216927773\n",
      "第 500 次迭代，成本值为： 0.6060056229265339\n",
      "第 600 次迭代，成本值为： 0.5690041263975134\n",
      "第 700 次迭代，成本值为： 0.519796535043806\n",
      "第 800 次迭代，成本值为： 0.46415716786282285\n",
      "第 900 次迭代，成本值为： 0.40842030048298916\n",
      "第 1000 次迭代，成本值为： 0.37315499216069037\n",
      "第 1100 次迭代，成本值为： 0.3057237457304711\n",
      "第 1200 次迭代，成本值为： 0.26810152847740837\n",
      "第 1300 次迭代，成本值为： 0.23872474827672607\n",
      "第 1400 次迭代，成本值为： 0.20632263257914712\n",
      "第 1500 次迭代，成本值为： 0.17943886927493552\n",
      "第 1600 次迭代，成本值为： 0.15798735818801324\n",
      "第 1700 次迭代，成本值为： 0.14240413012274078\n",
      "第 1800 次迭代，成本值为： 0.128651659978866\n",
      "第 1900 次迭代，成本值为： 0.11244314998157877\n",
      "第 2000 次迭代，成本值为： 0.08505631034970913\n",
      "第 2100 次迭代，成本值为： 0.05758391198608711\n",
      "第 2200 次迭代，成本值为： 0.04456753454695279\n",
      "第 2300 次迭代，成本值为： 0.038082751665983655\n",
      "第 2400 次迭代，成本值为： 0.034410749018407606\n"
     ]
    },
    {
     "data": {
      "image/png": "[encoded data removed]",
      "text/plain": [
       "<Figure size 432x288 with 1 Axes>"
      ]
     },
     "metadata": {
      "needs_background": "light"
     },
     "output_type": "display_data"
    }
   ],
   "source": [
    "# 数据加载\n",
    "train_set_x_orig , train_set_y , test_set_x_orig , test_set_y , classes = lr_utils.load_dataset()\n",
    "\n",
    "train_x_flatten = train_set_x_orig.reshape(train_set_x_orig.shape[0], -1).T\n",
    "test_x_flatten = test_set_x_orig.reshape(test_set_x_orig.shape[0], -1).T\n",
    "\n",
    "train_x = train_x_flatten / 255\n",
    "train_y = train_set_y\n",
    "test_x = test_x_flatten / 255\n",
    "test_y = test_set_y\n",
    "# 两层神经网络测试代码\n",
    "# n_x = 12288\n",
    "# n_h = 7\n",
    "# n_y = 1\n",
    "# layers_dims = (n_x,n_h,n_y)\n",
    "# parameters = two_layer_model(train_x, train_set_y, layers_dims = (n_x, n_h, n_y), num_iterations = 100, print_cost=True,isPlot=True)\n",
    "\n",
    "\n",
    "# 多层神经网络测试代码\n",
    "layers_dims = [12288, 20, 7, 5, 1] #  5-layer model\n",
    "parameters = mn.L_layer_model(train_x, train_y, layers_dims, num_iterations = 2500, print_cost = True,isPlot=True)\n",
    "\n",
    "# 预测\n",
    "# classes = ['non cat', 'cat']\n",
    "# pred_train = predict(train_x, train_y, parameters) #训练集\n",
    "# pred_test = predict(test_x, test_y, parameters) #测试集\n",
    "# print_mislabeled_images(classes, test_x, test_y, pred_test)"
   ]
  },
  {
   "cell_type": "code",
   "execution_count": 13,
   "metadata": {},
   "outputs": [
    {
     "data": {
      "text/plain": [
       "{'W1': array([[ 0.01613539,  0.0039378 ,  0.00087051, ...,  0.00669395,\n",
       "          0.0070159 , -0.01844003],\n",
       "        [-0.02118245, -0.00859832, -0.00800235, ..., -0.01072553,\n",
       "          0.01904234,  0.01265451],\n",
       "        [ 0.01107661,  0.00698062, -0.00690053, ..., -0.00808072,\n",
       "          0.00590504, -0.00030078],\n",
       "        ...,\n",
       "        [ 0.00511536,  0.00698352, -0.01366159, ..., -0.01976057,\n",
       "          0.00498075,  0.00918548],\n",
       "        [ 0.00250662,  0.01124941,  0.0051494 , ..., -0.00236704,\n",
       "         -0.00586788,  0.01280823],\n",
       "        [ 0.00946289,  0.00508921, -0.00032534, ...,  0.00654697,\n",
       "          0.00367306, -0.00507183]]), 'b1': array([[ 0.00000000e+00],\n",
       "        [ 6.57743850e-03],\n",
       "        [-2.13199541e-03],\n",
       "        [ 2.95472725e-03],\n",
       "        [ 3.98786454e-04],\n",
       "        [ 2.03016391e-03],\n",
       "        [ 6.74339126e-04],\n",
       "        [ 2.34309145e-03],\n",
       "        [-2.52415891e-04],\n",
       "        [ 9.74183893e-03],\n",
       "        [ 1.70688850e-03],\n",
       "        [-5.49487825e-04],\n",
       "        [ 3.37553734e-04],\n",
       "        [ 6.30444990e-03],\n",
       "        [ 7.82174012e-03],\n",
       "        [-3.46137712e-04],\n",
       "        [ 2.13951839e-02],\n",
       "        [ 6.60845621e-03],\n",
       "        [ 1.06515171e-03],\n",
       "        [ 7.02756257e-05]]), 'W2': array([[-9.41990616e-02,  3.33859271e-02,  1.07603547e-01,\n",
       "         -2.82111545e-02,  1.49966968e-01,  3.47287981e-02,\n",
       "         -1.91038972e-03, -2.78588708e-01,  3.65413874e-01,\n",
       "         -3.54952545e-01,  1.06539279e-01,  8.13324240e-01,\n",
       "          2.13222705e-01,  3.44051738e-01,  1.89035506e-01,\n",
       "          5.28868512e-02,  4.83343433e-01,  7.50721841e-02,\n",
       "          3.81987881e-01, -6.05500216e-01],\n",
       "        [ 3.12325731e-02, -4.87075616e-02,  1.42078160e-01,\n",
       "         -2.80899694e-01, -9.54307675e-02, -3.93026168e-01,\n",
       "          2.20918456e-01, -4.00271133e-02,  3.41659303e-01,\n",
       "          1.11091513e-01, -9.91791121e-02,  2.42567257e-01,\n",
       "          9.58384912e-02, -1.07055823e-01, -2.69387490e-01,\n",
       "          2.18557735e-01,  6.10457102e-01,  3.75043610e-01,\n",
       "          2.81232100e-01,  2.10216119e-01],\n",
       "        [ 1.70903442e-01,  4.38142636e-04,  7.23414340e-02,\n",
       "         -6.47833512e-02, -6.37462087e-03,  3.74276231e-01,\n",
       "          2.54492337e-01, -1.94618682e-01,  3.20004633e-01,\n",
       "         -1.85597237e-01, -6.72282993e-01,  3.83224006e-01,\n",
       "          4.44492929e-02,  4.41678743e-02,  1.83762686e-01,\n",
       "          1.56578769e-02,  4.76224689e-01,  4.47978033e-01,\n",
       "          6.90174004e-02,  8.48990968e-02],\n",
       "        [ 4.02449480e-01,  2.80031898e-01,  1.81012036e-02,\n",
       "         -1.87684715e-01,  4.37035772e-01, -5.76239729e-01,\n",
       "          3.74726303e-01, -1.01941548e-01, -3.42799485e-01,\n",
       "         -1.15884383e-01,  1.81159883e-01,  1.80711283e-01,\n",
       "          1.31343426e-01,  1.01278005e-01, -2.59006646e-01,\n",
       "         -3.86522375e-03,  3.40666169e-02,  1.64776726e-01,\n",
       "          2.94572852e-01,  2.06078820e-01],\n",
       "        [-1.30642581e-01, -2.75349529e-01,  2.57873440e-01,\n",
       "         -4.08957030e-01, -3.75697762e-02, -2.33958566e-01,\n",
       "          7.13245783e-02,  1.92261172e-01, -2.51605614e-01,\n",
       "          2.99094524e-01,  1.36548517e-01,  2.85666797e-01,\n",
       "          2.20047090e-02,  2.15261383e-01, -3.95915031e-01,\n",
       "         -5.08417300e-02,  1.03666476e-01, -1.61880828e-01,\n",
       "         -5.56404257e-01, -3.09230639e-01],\n",
       "        [-1.43288689e-01,  8.19127173e-02, -2.85009824e-01,\n",
       "         -1.34405508e-02, -5.60093088e-02,  2.81763733e-01,\n",
       "         -1.84787607e-01, -8.33562069e-02,  6.61490031e-02,\n",
       "          5.25248213e-01,  3.57526766e-01, -3.24765961e-01,\n",
       "          1.82062350e-01,  1.26847092e-01,  1.74383301e-01,\n",
       "          3.15320162e-01,  4.31678328e-01,  2.22829473e-01,\n",
       "          2.14243099e-01,  2.34612238e-01],\n",
       "        [-1.24167638e-01, -6.46912981e-01,  3.84078945e-01,\n",
       "         -1.35377564e-01, -2.85427410e-01, -3.88768911e-02,\n",
       "          3.18066912e-01,  4.55636935e-02, -9.97039361e-02,\n",
       "          2.08122812e-01,  2.87746360e-02,  3.29880476e-02,\n",
       "          5.65020776e-02, -1.01326150e-01, -5.04247932e-01,\n",
       "         -1.22160769e-01,  2.25311124e-01,  1.26062052e-01,\n",
       "          1.95154555e-02, -7.89802767e-02]]), 'b2': array([[-0.00635659],\n",
       "        [-0.00320674],\n",
       "        [ 0.0230705 ],\n",
       "        [ 0.01822121],\n",
       "        [ 0.02516864],\n",
       "        [ 0.0147017 ],\n",
       "        [-0.00319358]]), 'W3': array([[-0.17577784, -0.08420228,  0.56162277, -0.31692062,  0.41389273,\n",
       "          0.43426924, -0.04475749],\n",
       "        [-0.06374738,  0.28910309,  0.37393702,  0.12855183, -0.06330858,\n",
       "          0.05386217,  0.48363875],\n",
       "        [ 0.5934631 ,  0.62967973,  0.96813219,  0.27739679,  0.42436822,\n",
       "         -0.3125084 ,  1.13057185],\n",
       "        [ 0.02146949,  0.7438681 , -0.91212363, -0.11598506,  0.12443418,\n",
       "          0.1169982 ,  0.17298746],\n",
       "        [ 0.33908099,  0.17770648,  0.22183142,  0.20048368, -0.2726123 ,\n",
       "         -0.00457164, -0.15364803]]), 'b3': array([[ 0.28450133],\n",
       "        [-0.17379929],\n",
       "        [-0.0937042 ],\n",
       "        [-0.20642403],\n",
       "        [-0.04517724]]), 'W4': array([[-0.52706203,  0.26815207,  1.27082096,  0.52386147,  0.46561802]]), 'b4': array([[-1.69100506]])}"
      ]
     },
     "execution_count": 13,
     "metadata": {},
     "output_type": "execute_result"
    }
   ],
   "source": [
    "parameters"
   ]
  },
  {
   "cell_type": "code",
   "execution_count": 24,
   "metadata": {},
   "outputs": [
    {
     "name": "stderr",
     "output_type": "stream",
     "text": [
      "D:\\anaconda\\lib\\site-packages\\skimage\\transform\\_warps.py:105: UserWarning: The default mode, 'constant', will be changed to 'reflect' in skimage 0.15.\n",
      "  warn(\"The default mode, 'constant', will be changed to 'reflect' in \"\n",
      "D:\\anaconda\\lib\\site-packages\\skimage\\transform\\_warps.py:110: UserWarning: Anti-aliasing will be enabled by default in skimage 0.15 to avoid aliasing artifacts when down-sampling images.\n",
      "  warn(\"Anti-aliasing will be enabled by default in skimage 0.15 to \"\n"
     ]
    },
    {
     "name": "stdout",
     "output_type": "stream",
     "text": [
      "准确度为: 1.0\n",
      "y = 1.0, your L-layer model predicts a \"cat\" picture.\n"
     ]
    },
    {
     "data": {
      "image/png": "[encoded data removed]",
      "text/plain": [
       "<Figure size 432x288 with 1 Axes>"
      ]
     },
     "metadata": {
      "needs_background": "light"
     },
     "output_type": "display_data"
    }
   ],
   "source": [
    "from scipy.misc import imresize\n",
    "from scipy import ndimage\n",
    "import imageio\n",
    "from skimage import transform\n",
    "\n",
    "## START CODE HERE ##\n",
    "num_px = 64\n",
    "my_image = \"myimage.png\" # change this to the name of your image file \n",
    "my_label_y = [1] # the true class of your image (1 -> cat, 0 -> non-cat)\n",
    "## END CODE HERE ##\n",
    "\n",
    "fname = \"images/\" + my_image\n",
    "image = np.array(imageio.imread(fname))\n",
    "image =transform.resize(image, (64, 64,3))\n",
    "my_image=image.reshape(64*64*3,1)\n",
    "my_predicted_image = mn.predict(my_image, my_label_y, parameters)\n",
    "\n",
    "plt.imshow(image)\n",
    "print (\"y = \" + str(np.squeeze(my_predicted_image)) + \", your L-layer model predicts a \\\"\" + classes[int(np.squeeze(my_predicted_image)),].decode(\"utf-8\") +  \"\\\" picture.\")\n"
   ]
  },
  {
   "cell_type": "code",
   "execution_count": null,
   "metadata": {},
   "outputs": [],
   "source": []
  }
 ],
 "metadata": {
  "kernelspec": {
   "display_name": "Python 3",
   "language": "python",
   "name": "python3"
  },
  "language_info": {
   "codemirror_mode": {
    "name": "ipython",
    "version": 3
   },
   "file_extension": ".py",
   "mimetype": "text/x-python",
   "name": "python",
   "nbconvert_exporter": "python",
   "pygments_lexer": "ipython3",
   "version": "3.7.0"
  }
 },
 "nbformat": 4,
 "nbformat_minor": 2
}
